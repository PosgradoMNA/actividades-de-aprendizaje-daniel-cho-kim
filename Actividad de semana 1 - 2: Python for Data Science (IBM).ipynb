{
  "nbformat": 4,
  "nbformat_minor": 0,
  "metadata": {
    "colab": {
      "name": "Actividad de semana 1 - 2: Python for Data Science (IBM).ipynb",
      "provenance": [],
      "include_colab_link": true
    },
    "kernelspec": {
      "name": "python3",
      "display_name": "Python 3"
    },
    "language_info": {
      "name": "python"
    }
  },
  "cells": [
    {
      "cell_type": "markdown",
      "metadata": {
        "id": "view-in-github",
        "colab_type": "text"
      },
      "source": [
        "<a href=\"https://colab.research.google.com/github/PosgradoMNA/actividades-de-aprendizaje-daniel-cho-kim/blob/main/Actividad%20de%20semana%201%20-%202%3A%20Python%20for%20Data%20Science%20(IBM).ipynb\" target=\"_parent\"><img src=\"https://colab.research.google.com/assets/colab-badge.svg\" alt=\"Open In Colab\"/></a>"
      ]
    },
    {
      "cell_type": "markdown",
      "source": [
        "# **Actividad de semana 1 - 2: Python for Data Science (IBM)**\n",
        "## **Práctica de aprendizaje**\n",
        "\n",
        "\n",
        "1.   Módulo 1 - Python Basics\n",
        "2.   Módulo 2 - Python Data Structures\n",
        "3.   Módulo 3 - Python Programming Fundamentals\n",
        "\n",
        "\n",
        "\n",
        "\n"
      ],
      "metadata": {
        "id": "Hd_8bD4EJuQd"
      }
    },
    {
      "cell_type": "markdown",
      "source": [
        "----\n",
        "### Módulo 1 - Python Basics\n",
        "\n",
        "1.   Expressions and variables\n",
        "2.   Strings"
      ],
      "metadata": {
        "id": "B7JNim32LhYL"
      }
    },
    {
      "cell_type": "code",
      "execution_count": null,
      "metadata": {
        "id": "LzUSMM79NR9P",
        "outputId": "04079f3b-556a-4f03-b018-14a6890da512",
        "colab": {
          "base_uri": "https://localhost:8080/"
        }
      },
      "outputs": [
        {
          "output_type": "execute_result",
          "data": {
            "text/plain": [
              "0.10000000000002274"
            ]
          },
          "metadata": {},
          "execution_count": 1
        }
      ],
      "source": [
        "## 1. Expressions and variables \n",
        "# Expression\n",
        "1000 + 0.1 - 1000"
      ]
    },
    {
      "cell_type": "code",
      "source": [
        "# Variables\n",
        "a = 1000\n",
        "b = 0.1\n",
        "c = a + b - a\n",
        "c"
      ],
      "metadata": {
        "id": "mxM_WppZPMFx",
        "outputId": "5b18b96b-abc8-4453-a0a6-07f0ccfa7cbe",
        "colab": {
          "base_uri": "https://localhost:8080/"
        }
      },
      "execution_count": null,
      "outputs": [
        {
          "output_type": "execute_result",
          "data": {
            "text/plain": [
              "0.10000000000002274"
            ]
          },
          "metadata": {},
          "execution_count": 5
        }
      ]
    },
    {
      "cell_type": "code",
      "source": [
        "## 2. Strings\n",
        "string = \"This is a string\"\n",
        "string"
      ],
      "metadata": {
        "id": "oh95T0RbLN8b",
        "outputId": "fbbdc276-78a0-4419-bc37-cbb5c63203dc",
        "colab": {
          "base_uri": "https://localhost:8080/",
          "height": 36
        }
      },
      "execution_count": null,
      "outputs": [
        {
          "output_type": "execute_result",
          "data": {
            "text/plain": [
              "'This is a string'"
            ],
            "application/vnd.google.colaboratory.intrinsic+json": {
              "type": "string"
            }
          },
          "metadata": {},
          "execution_count": 6
        }
      ]
    },
    {
      "cell_type": "markdown",
      "source": [
        "----\n",
        "### Módulo 2 - Python Data Structures\n",
        "\n",
        "1.   Lists and tuples\n",
        "2.   Sets\n",
        "3.   Dictionaries"
      ],
      "metadata": {
        "id": "A5-oyStPK60t"
      }
    },
    {
      "cell_type": "code",
      "source": [
        "## 1. Lists and tuples\n",
        "this_list = [0, 2, 3, 'abc', ['a','b','c']]\n",
        "this_tuple = (2,4)\n",
        "\n",
        "this_list_of_tuple = [(1,2), (3,4), (5,6), (7,8), (9,10)]\n",
        "this_tuple_of_list = ([1,2,3,4,5], [6,7,8,9,10])\n",
        "\n",
        "print('List:\\n', this_list,\n",
        "      '\\nTuple:\\n', this_tuple,\n",
        "      '\\nList of tuples:\\n', this_list_of_tuple,\n",
        "      '\\nTuple of lists:\\n', this_tuple_of_list)"
      ],
      "metadata": {
        "id": "C4Xj0vyCK4fl",
        "outputId": "1ace0f94-0215-4362-a8f8-aca23668e80b",
        "colab": {
          "base_uri": "https://localhost:8080/"
        }
      },
      "execution_count": null,
      "outputs": [
        {
          "output_type": "stream",
          "name": "stdout",
          "text": [
            "List:\n",
            " [0, 2, 3, 'abc', ['a', 'b', 'c']] \n",
            "Tuple:\n",
            " (2, 4) \n",
            "List of tuples:\n",
            " [(1, 2), (3, 4), (5, 6), (7, 8), (9, 10)] \n",
            "Tuple of lists:\n",
            " ([1, 2, 3, 4, 5], [6, 7, 8, 9, 10])\n"
          ]
        }
      ]
    },
    {
      "cell_type": "code",
      "source": [
        "## 2. Sets\n",
        "this_set = {1, 2, 3, 3, 3, 3}\n",
        "\n",
        "print(f'Set:\\n{this_set}')"
      ],
      "metadata": {
        "id": "n3nUz_fVOJi4",
        "outputId": "f3892320-8c5c-480f-cf4c-c41e81c4a92e",
        "colab": {
          "base_uri": "https://localhost:8080/"
        }
      },
      "execution_count": null,
      "outputs": [
        {
          "output_type": "stream",
          "name": "stdout",
          "text": [
            "Set:\n",
            "{1, 2, 3}\n"
          ]
        }
      ]
    },
    {
      "cell_type": "code",
      "source": [
        "## 3. Dictionary\n",
        "this_dict = {'Numbers': [1,2,3,4,5,6,7,8,9,0],\n",
        "             'Characters': ['a','b', '.', ',']}\n",
        "\n",
        "print(f\"Dictionary:\\n  -First (key, value) pair:   {this_dict['Numbers']}\\n  -Second (key, value) pair:   {this_dict['Characters']}\")"
      ],
      "metadata": {
        "id": "wfVeYeXMPEJb",
        "outputId": "8bd672bf-1777-40c8-d2e1-ffbc9e663cee",
        "colab": {
          "base_uri": "https://localhost:8080/"
        }
      },
      "execution_count": null,
      "outputs": [
        {
          "output_type": "stream",
          "name": "stdout",
          "text": [
            "Dictionary:\n",
            "  -First (key, value) pair:   [1, 2, 3, 4, 5, 6, 7, 8, 9, 0]\n",
            "  -Second (key, value) pair:   ['a', 'b', '.', ',']\n"
          ]
        }
      ]
    },
    {
      "cell_type": "markdown",
      "source": [
        "----\n",
        "### Módulo 3 - Python Programming Fundamentals\n",
        "\n",
        "1.   Conditions and branching\n",
        "2.   Loops\n",
        "3.   Functions\n",
        "4.   Object and Classes"
      ],
      "metadata": {
        "id": "ce3TWm5iQjw-"
      }
    },
    {
      "cell_type": "code",
      "source": [
        "## 1. Conditions and branching\n",
        "if (10*10*20 == 10*20*10) and (10+20+30 == 30+20+10):\n",
        "  print('In Multiplication and Addition the order of the factors do NOT alter the results')\n",
        "else:\n",
        "  print('In Multiplication and Addition the order of the factors DO alter the results')"
      ],
      "metadata": {
        "id": "olQ5uFcMQzX3",
        "outputId": "dfdc76c4-a369-48d3-98cc-34d8842cf0b4",
        "colab": {
          "base_uri": "https://localhost:8080/"
        }
      },
      "execution_count": 4,
      "outputs": [
        {
          "output_type": "stream",
          "name": "stdout",
          "text": [
            "In Multiplication and Addition the order of the factors do NOT alter the results\n"
          ]
        }
      ]
    },
    {
      "cell_type": "code",
      "source": [
        "## 2. Loops (simple)\n",
        "for i in 'THIS IS A LOOP':\n",
        "  print(i)"
      ],
      "metadata": {
        "id": "R4vRHNm2mUJh",
        "outputId": "635e32b7-7b1f-44d2-a824-9fe007335346",
        "colab": {
          "base_uri": "https://localhost:8080/"
        }
      },
      "execution_count": 10,
      "outputs": [
        {
          "output_type": "stream",
          "name": "stdout",
          "text": [
            "T\n",
            "H\n",
            "I\n",
            "S\n",
            " \n",
            "I\n",
            "S\n",
            " \n",
            "A\n",
            " \n",
            "L\n",
            "O\n",
            "O\n",
            "P\n"
          ]
        }
      ]
    },
    {
      "cell_type": "code",
      "source": [
        "## 2. Loops (branching)\n",
        "for i in 'THIS IS A BREAK *':\n",
        "  if i == '*':\n",
        "    break\n",
        "  else:\n",
        "    print(i)"
      ],
      "metadata": {
        "id": "GlHNfxW0nJab",
        "outputId": "b3305a07-c895-4839-8cd2-7bc9508b9157",
        "colab": {
          "base_uri": "https://localhost:8080/"
        }
      },
      "execution_count": 12,
      "outputs": [
        {
          "output_type": "stream",
          "name": "stdout",
          "text": [
            "T\n",
            "H\n",
            "I\n",
            "S\n",
            " \n",
            "I\n",
            "S\n",
            " \n",
            "A\n",
            " \n",
            "B\n",
            "R\n",
            "E\n",
            "A\n",
            "K\n",
            " \n"
          ]
        }
      ]
    },
    {
      "cell_type": "code",
      "source": [
        "## 3. Functions\n",
        "def cap_consonants(phrase):\n",
        "  temp = ''\n",
        "  for letter in phrase:\n",
        "    if letter in ['a','e','i','o','u']:\n",
        "      temp = temp + letter\n",
        "    else:\n",
        "      temp = temp + letter.capitalize()\n",
        "  return temp\n",
        "\n",
        "cap_consonants('Hola como te va')"
      ],
      "metadata": {
        "id": "YlPgu-hOnTxk",
        "outputId": "fed11e8f-5d91-49a2-f595-1cfcf81d4ea7",
        "colab": {
          "base_uri": "https://localhost:8080/",
          "height": 36
        }
      },
      "execution_count": 20,
      "outputs": [
        {
          "output_type": "execute_result",
          "data": {
            "text/plain": [
              "'HoLa CoMo Te Va'"
            ],
            "application/vnd.google.colaboratory.intrinsic+json": {
              "type": "string"
            }
          },
          "metadata": {},
          "execution_count": 20
        }
      ]
    }
  ]
}